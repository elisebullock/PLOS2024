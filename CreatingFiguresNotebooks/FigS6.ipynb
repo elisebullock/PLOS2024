{
 "cells": [
  {
   "cell_type": "code",
   "execution_count": 1,
   "id": "73cdc1d9",
   "metadata": {},
   "outputs": [],
   "source": [
    "\n",
    "import matplotlib.pyplot as plt\n",
    "#import scipy.stats as sts\n",
    "import numpy as np\n",
    "import cmdstanpy ## import stan interface for Python\n",
    "#from scipy.integrate import solve_ivp\n",
    "#from matplotlib.gridspec import GridSpec\n",
    "import os\n",
    "import seaborn as sns\n",
    "import pandas as pd\n",
    "#import math\n",
    "# from scipy.special import logit,expit\n",
    "from importlib import reload \n",
    "import sys\n",
    "# import patchworklib as pw\n",
    "sys.path.append(\"..\")\n",
    "from statannotations.Annotator import Annotator\n",
    "from itertools import product\n",
    "\n",
    "import arviz\n",
    "import matplotlib as mpl\n",
    "\n",
    "tex_fonts = {\n",
    "    # Use LaTeX to write all text\n",
    "#     \"text.usetex\": True,\n",
    "    \"font.family\": \"Helvetica\",\n",
    "    # Use 10pt font in plots, to match 10pt font in document\n",
    "    \"axes.labelsize\": 7,\n",
    "    \"font.size\": 7,\n",
    "    # Make the legend/label fonts a little smaller\n",
    "    \"legend.fontsize\": 6,\n",
    "    \"xtick.labelsize\": 6,\n",
    "    \"ytick.labelsize\": 6,\n",
    "    \"axes.grid\": True,\n",
    "    'grid.color': '#DDDDDD',\n",
    "    'grid.linestyle': '-',\n",
    "    'grid.linewidth': 0.3,\n",
    "    \"lines.markersize\":4,\n",
    "    \n",
    "    'axes.axisbelow':True,\n",
    "    'lines.linewidth':1,\n",
    "    'pdf.fonttype':42,\n",
    "    'axes.linewidth':0.6,\n",
    "    'xtick.major.width':0.5,\n",
    "    'ytick.major.width':0.5,\n",
    "    'ytick.minor.width':0.3,\n",
    "\n",
    "    'ytick.major.pad':0.2,\n",
    "        \"xtick.major.size\":3,\n",
    "    \"ytick.major.size\":3,\n",
    "}\n",
    "\n",
    "plt.rcParams.update(tex_fonts)\n",
    "\n",
    "\n",
    "\n",
    "# label_size = 30\n",
    "# mpl.rcParams['xtick.labelsize'] = label_size \n",
    "# mpl.rcParams['ytick.labelsize'] = label_size \n",
    "# mpl.rcParams['lines.markersize'] = 20  \n",
    "# plt.rcParams['axes.grid'] = True\n",
    "# mpl.rcParams['font.family']='Helvetica'\n",
    "\n",
    "ratio= 2/(1+np.sqrt(5))\n",
    "\n",
    "width = 520.344\n",
    "if os.name == \"nt\": ## adds compiler to path in Windows\n",
    "    cmdstanpy.utils.cxx_toolchain_path() \n",
    "    \n",
    "# %config InlineBackend.close_figures=False # keep figures open in pyplot\n",
    "# #%config InlineBackend.print_figure_kwargs = {'bbox_inches':\"tight\", 'pad_inches':2}\n",
    "\n",
    "\n",
    "# sigma = 0.15\n",
    "\n",
    "# switchtime = 21\n",
    "# numObs = 27\n",
    "# tmax = 35\n",
    "\n",
    "# # time_index = np.concatenate((np.logspace(-1,np.log10(switchtime),num=int(numObs/2)), (np.logspace(-1,np.log10(tmax-switchtime),num=int(numObs/2)))+switchtime))\n",
    "# #time_index = np.linspace(tmax/numObs,tmax,numObs)\n",
    "# switch = (numofbrduint+2)*(numofki67int+2)\n",
    "# y0_est = np.zeros((numofki67int+2)*(numofbrduint+2)*2)\n",
    "\n",
    "time_index_equilibrium = np.linspace(10000/1, 10000, 1)\n",
    "my_pal = {\"4cm\": \"g\", \n",
    "          \"4em\": \"m\", \n",
    "          \"Donor\":\"#a4e0ef\", \n",
    "          \"Host\":\"#ff7f0e\",\n",
    "#             \"donor\":\"blue\", \n",
    "#           \"host\":\"#DC582A\",\n",
    "         \"WT\":\"#02feff\",\n",
    "         \"Young CHIM\":\"#7d81fc\",\n",
    "         \"Old CHIM\":\"#f50aff\"}\n",
    "\n",
    "my_marks = {\"Donor\": \"o\",#\"$\\circ$\", \n",
    "           \"Host\": \"^\",\n",
    "         \"WT\":\"o\",\n",
    "         \"Young CHIM\":\"P\",\n",
    "         \"Old CHIM\":\"^\"}\n",
    "\n",
    "scatterkwags = {\"c\":\"k\",\n",
    "                'edgecolor':'k',\n",
    "                \"alpha\":0.5,\n",
    "                'linewidth':.15, \n",
    "    'zorder':1\n",
    "\n",
    "                \n",
    "}\n",
    "\n",
    "df = pd.read_csv('/home/elise/Code/BRDU/Elisehasbeenusing_dataUCL.csv',index_col='index')\n",
    "df['age_cat']=np.where(df.age < 113, 'WT', np.where((df.age >= 113) & (df.age < 180), 'Young CHIM', 'Old CHIM'))\n",
    "\n",
    "df['ADH'] = df['ADH'].replace('donor','Donor')\n",
    "df['ADH'] = df['ADH'].replace('host','Host')\n",
    "\n",
    "def set_size(width, fraction=1, subplots=(1, 1)):\n",
    "    \"\"\"Set figure dimensions to avoid scaling in LaTeX.\n",
    "\n",
    "    Parameters\n",
    "    ----------\n",
    "    width: float or string\n",
    "            Document width in points, or string of predined document type\n",
    "    fraction: float, optional\n",
    "            Fraction of the width which you wish the figure to occupy\n",
    "    subplots: array-like, optional\n",
    "            The number of rows and columns of subplots.\n",
    "    Returns\n",
    "    -------\n",
    "    fig_dim: tuple\n",
    "            Dimensions of figure in inches\n",
    "    \"\"\"\n",
    "    if width == 'thesis':\n",
    "        width_pt = 426.79135\n",
    "    elif width == 'beamer':\n",
    "        width_pt = 307.28987\n",
    "    else:\n",
    "        width_pt = width\n",
    "\n",
    "    # Width of figure (in pts)\n",
    "    fig_width_pt = width_pt * fraction\n",
    "    # Convert from pt to inches\n",
    "    inches_per_pt = 1 / 72.27\n",
    "\n",
    "    # Golden ratio to set aesthetic figure height\n",
    "    # https://disq.us/p/2940ij3\n",
    "    golden_ratio = (5**.5 - 1) / 2\n",
    "\n",
    "    # Figure width in inches\n",
    "    fig_width_in = fig_width_pt * inches_per_pt\n",
    "    # Figure height in inches\n",
    "    fig_height_in = fig_width_in * golden_ratio * (subplots[0] / subplots[1])\n",
    "\n",
    "    return (fig_width_in, fig_height_in)\n",
    "\n",
    "def enumerated_product(*args):\n",
    "    yield from zip(product(*(range(len(x)) for x in args)), product(*args))\n",
    "    \n"
   ]
  },
  {
   "cell_type": "code",
   "execution_count": 2,
   "id": "c69966b1",
   "metadata": {
    "scrolled": false
   },
   "outputs": [
    {
     "name": "stdout",
     "output_type": "stream",
     "text": [
      "(0, 0)\n",
      "('linear', 'linear')\n"
     ]
    },
    {
     "name": "stderr",
     "output_type": "stream",
     "text": [
      "12:30:14 - cmdstanpy - INFO - CmdStan start processing\n"
     ]
    },
    {
     "data": {
      "application/vnd.jupyter.widget-view+json": {
       "model_id": "4ae1dd97632a4917804a9182a0b1353e",
       "version_major": 2,
       "version_minor": 0
      },
      "text/plain": [
       "chain 1 |          | 00:00 Status"
      ]
     },
     "metadata": {},
     "output_type": "display_data"
    },
    {
     "name": "stdout",
     "output_type": "stream",
     "text": [
      "                                                                                "
     ]
    },
    {
     "name": "stderr",
     "output_type": "stream",
     "text": [
      "12:30:14 - cmdstanpy - INFO - CmdStan done processing.\n"
     ]
    },
    {
     "name": "stdout",
     "output_type": "stream",
     "text": [
      "\n"
     ]
    },
    {
     "name": "stderr",
     "output_type": "stream",
     "text": [
      "12:30:15 - cmdstanpy - INFO - CmdStan start processing\n"
     ]
    },
    {
     "data": {
      "application/vnd.jupyter.widget-view+json": {
       "model_id": "75d1c0fcf05d46fb9b7873378d10ccbe",
       "version_major": 2,
       "version_minor": 0
      },
      "text/plain": [
       "chain 1 |          | 00:00 Status"
      ]
     },
     "metadata": {},
     "output_type": "display_data"
    },
    {
     "name": "stdout",
     "output_type": "stream",
     "text": [
      "                                                                                "
     ]
    },
    {
     "name": "stderr",
     "output_type": "stream",
     "text": [
      "12:30:15 - cmdstanpy - INFO - CmdStan done processing.\n"
     ]
    },
    {
     "name": "stdout",
     "output_type": "stream",
     "text": [
      "\n",
      "branched-20230912105908_1.csv\n",
      "branched-20230912105908_4.csv\n",
      "branched-20230912105908_2.csv\n",
      "linear-20230912110309_4.csv\n",
      "linear-20230912110309_5.csv\n",
      "branched-20230912105908_5.csv\n",
      "branched-20230912105908_3.csv\n",
      "linear-20230912110309_1.csv\n",
      "linear-20230912110309_3.csv\n",
      "linear-20230912110309_2.csv\n",
      "(0, 1)\n",
      "('linear', 'branched')\n"
     ]
    },
    {
     "name": "stderr",
     "output_type": "stream",
     "text": [
      "12:30:18 - cmdstanpy - INFO - CmdStan start processing\n"
     ]
    },
    {
     "data": {
      "application/vnd.jupyter.widget-view+json": {
       "model_id": "ca4b335cd74d4999ac1dca3441c2a215",
       "version_major": 2,
       "version_minor": 0
      },
      "text/plain": [
       "chain 1 |          | 00:00 Status"
      ]
     },
     "metadata": {},
     "output_type": "display_data"
    },
    {
     "name": "stdout",
     "output_type": "stream",
     "text": [
      "                                                                                "
     ]
    },
    {
     "name": "stderr",
     "output_type": "stream",
     "text": [
      "12:30:18 - cmdstanpy - INFO - CmdStan done processing.\n"
     ]
    },
    {
     "name": "stdout",
     "output_type": "stream",
     "text": [
      "\n",
      "branched-20230912105751_2.csv\n",
      "linear-20230912110211_2.csv\n",
      "branched-20230912105751_5.csv\n",
      "linear-20230912110211_3.csv\n",
      "branched-20230912105751_3.csv\n",
      "linear-20230912110211_1.csv\n",
      "branched-20230912105751_4.csv\n",
      "linear-20230912110211_4.csv\n",
      "branched-20230912105751_1.csv\n",
      "linear-20230912110211_5.csv\n",
      "(1, 0)\n",
      "('branched', 'linear')\n"
     ]
    },
    {
     "name": "stderr",
     "output_type": "stream",
     "text": [
      "12:30:21 - cmdstanpy - INFO - CmdStan start processing\n"
     ]
    },
    {
     "data": {
      "application/vnd.jupyter.widget-view+json": {
       "model_id": "9e7b74ca7c9049839ceef63a1284df11",
       "version_major": 2,
       "version_minor": 0
      },
      "text/plain": [
       "chain 1 |          | 00:00 Status"
      ]
     },
     "metadata": {},
     "output_type": "display_data"
    },
    {
     "name": "stdout",
     "output_type": "stream",
     "text": [
      "                                                                                "
     ]
    },
    {
     "name": "stderr",
     "output_type": "stream",
     "text": [
      "12:30:21 - cmdstanpy - INFO - CmdStan done processing.\n"
     ]
    },
    {
     "name": "stdout",
     "output_type": "stream",
     "text": [
      "\n",
      "branched-20230912105908_1.csv\n",
      "branched-20230912105908_4.csv\n",
      "branched-20230912105908_2.csv\n",
      "linear-20230912110309_4.csv\n",
      "linear-20230912110309_5.csv\n",
      "branched-20230912105908_5.csv\n",
      "branched-20230912105908_3.csv\n",
      "linear-20230912110309_1.csv\n",
      "linear-20230912110309_3.csv\n",
      "linear-20230912110309_2.csv\n",
      "(1, 1)\n",
      "('branched', 'branched')\n"
     ]
    },
    {
     "name": "stderr",
     "output_type": "stream",
     "text": [
      "12:30:24 - cmdstanpy - INFO - CmdStan start processing\n"
     ]
    },
    {
     "data": {
      "application/vnd.jupyter.widget-view+json": {
       "model_id": "dda087a47c514a619681103c9f9806ab",
       "version_major": 2,
       "version_minor": 0
      },
      "text/plain": [
       "chain 1 |          | 00:00 Status"
      ]
     },
     "metadata": {},
     "output_type": "display_data"
    },
    {
     "name": "stdout",
     "output_type": "stream",
     "text": [
      "                                                                                "
     ]
    },
    {
     "name": "stderr",
     "output_type": "stream",
     "text": [
      "12:30:24 - cmdstanpy - INFO - CmdStan done processing.\n"
     ]
    },
    {
     "name": "stdout",
     "output_type": "stream",
     "text": [
      "\n",
      "branched-20230912105751_2.csv\n",
      "linear-20230912110211_2.csv\n",
      "branched-20230912105751_5.csv\n",
      "linear-20230912110211_3.csv\n",
      "branched-20230912105751_3.csv\n",
      "linear-20230912110211_1.csv\n",
      "branched-20230912105751_4.csv\n",
      "linear-20230912110211_4.csv\n",
      "branched-20230912105751_1.csv\n",
      "linear-20230912110211_5.csv\n"
     ]
    },
    {
     "data": {
      "image/png": "[encoded data removed]",
      "text/plain": [
       "<Figure size 720x400 with 6 Axes>"
      ]
     },
     "metadata": {},
     "output_type": "display_data"
    }
   ],
   "source": [
    "fig, ax = plt.subplots(2,3 , figsize=(7.2,4), sharex=True,sharey=True)\n",
    "\n",
    "linearfile = '/opt/mesh/tiree/elise/samples_1/linearbranched_r13/stan-cache-4linear_3/'\n",
    "branchedfile = \"/opt/mesh/tiree/elise/samples_1/linearbranched_r13/stan-cache-4branched_3/\"\n",
    "\n",
    "\n",
    "colors = [\"b\",\"r\"]\n",
    "\n",
    "realdatac = [\"linear\",\"branched\"]\n",
    "\n",
    "typec = [\"linear\",\"branched\"]\n",
    "\n",
    "for idx, adhpop in enumerated_product(typec,realdatac):\n",
    "    print(idx)\n",
    "    print(adhpop)\n",
    "    \n",
    "    fl = []\n",
    "    fb = []\n",
    "    g = []\n",
    "    \n",
    "    #data slicing and manulipulation\n",
    "    if adhpop[1]=='linear':\n",
    "        location = linearfile\n",
    "    else:\n",
    "        location = branchedfile\n",
    "\n",
    "    sys.path.insert(1, location)\n",
    "    import paras\n",
    "    reload(paras)\n",
    "    \n",
    "    for f_name in os.listdir(location):\n",
    "        if f_name.endswith('.csv')&f_name.startswith('branched'):\n",
    "            print(f_name)\n",
    "            fb.append(location+f_name)\n",
    "        elif f_name.endswith('.csv')&f_name.startswith('linear'):\n",
    "            print(f_name)\n",
    "            fl.append(location+f_name)\n",
    "\n",
    "\n",
    "    if adhpop[0] == \"branched\":\n",
    "        sam = cmdstanpy.from_csv(fb)\n",
    "    else:\n",
    "        sam = cmdstanpy.from_csv(fl)\n",
    "\n",
    "\n",
    "    \n",
    "    \n",
    "    time_index_calc = np.concatenate((np.logspace(-1,np.log10(paras.switchtime),num=int(100/2)), (np.logspace(-1,np.log10(paras.tmax-paras.switchtime),num=int(100/2)))+paras.switchtime))\n",
    "\n",
    "    y1 =  sam.stan_variable(\"f_brdhi_calc\")\n",
    "    y2 =  sam.stan_variable(\"f_brdhi_kihi_calc\")\n",
    "    y3 =  sam.stan_variable(\"f_brdhi_kilo_calc\")\n",
    "    \n",
    "\n",
    "    #BRDU frac\n",
    "    ax1 = ax[idx[1],0]\n",
    "\n",
    "    mB = np.median(y1[:,:], axis=0)\n",
    "    lB, uB = np.percentile(y1[:,:], axis=0, q=[2.5, 97.5])\n",
    "    ax1.plot(time_index_calc, mB,label=adhpop[0]+' fit',c = colors[idx[0]])\n",
    "#     ax1.fill_between(time_index_calc, lB, uB, alpha=0.4)\n",
    "    \n",
    "    if adhpop[0]=='linear':\n",
    "        ax1.scatter(paras.time_index,paras.brdhi_frac,**scatterkwags) \n",
    "    ax1.set_ylabel('')\n",
    "    ax1.set_xlabel('')\n",
    "    ax1.set_ylim([0,1])\n",
    "    \n",
    "    #BRDU+ in ki+ frac\n",
    "    ax1 = ax[idx[1],1]\n",
    "\n",
    "    mB = np.median(y2[:,:], axis=0)\n",
    "    lB, uB = np.percentile(y2[:,:], axis=0, q=[2.5, 97.5])\n",
    "    ax1.plot(time_index_calc, mB,c = colors[idx[0]])\n",
    "#     ax1.fill_between(time_index_calc, lB, uB, alpha=0.4)\n",
    "    \n",
    "    if adhpop[0]=='linear':\n",
    "        ax1.scatter(paras.time_index,paras.brdhi_kihi_frac,**scatterkwags)\n",
    "    ax1.set_ylabel('')\n",
    "    ax1.set_xlabel('')\n",
    "    ax1.set_ylim([0,1])\n",
    "    \n",
    "    #BRDU+ in ki+ frac\n",
    "    ax1 = ax[idx[1],2]\n",
    "\n",
    "    mB = np.median(y3[:,:], axis=0)\n",
    "    lB, uB = np.percentile(y3[:,:], axis=0, q=[2.5, 97.5])\n",
    "    ax1.plot(time_index_calc, mB,c = colors[idx[0]])\n",
    "    if adhpop[0]=='linear':\n",
    "        ax1.scatter(paras.time_index,paras.brdhi_kilo_frac,**scatterkwags)\n",
    "    ax1.set_ylabel('')\n",
    "    ax1.set_xlabel('')\n",
    "    ax1.set_ylim([0,1])\n",
    "    \n",
    "\n",
    "\n",
    "fig.supxlabel('Time post BrdU (days)')\n",
    "ax[0,2].set_title('BrdU+ in Ki67-')\n",
    "ax[0,0].set_ylabel('Linear Data')\n",
    "ax[1,0].set_ylabel('Branched Data')\n",
    "ax[0,0].set_title('BrdU Fraction')\n",
    "ax[0,1].set_title('BrdU+ in Ki67+')\n",
    "\n",
    "handles, labels = ax[0,0].get_legend_handles_labels()\n",
    "order = [0,1]\n",
    "\n",
    "\n",
    "# Place the legend\n",
    "lgd = ax[1,0].legend(\n",
    "    [handles[idx] for idx in order],[labels[idx] for idx in order],\n",
    "    loc=\"upper left\", \n",
    "    ncol=2,\n",
    ")\n",
    "\n",
    "\n",
    "plt.tight_layout()\n",
    "\n",
    "fig.savefig('/home/elise/Dropbox/elisepaperclone/TCellMemory/Figures/figS6.pdf', \n",
    "            dpi='figure', format='pdf',\n",
    "        bbox_inches='tight', pad_inches=0.1)\n",
    "\n",
    "  "
   ]
  },
  {
   "cell_type": "code",
   "execution_count": null,
   "id": "0ee6e9b9",
   "metadata": {},
   "outputs": [],
   "source": []
  }
 ],
 "metadata": {
  "kernelspec": {
   "display_name": "Python 3 (ipykernel)",
   "language": "python",
   "name": "python3"
  },
  "language_info": {
   "codemirror_mode": {
    "name": "ipython",
    "version": 3
   },
   "file_extension": ".py",
   "mimetype": "text/x-python",
   "name": "python",
   "nbconvert_exporter": "python",
   "pygments_lexer": "ipython3",
   "version": "3.9.13"
  }
 },
 "nbformat": 4,
 "nbformat_minor": 5
}
